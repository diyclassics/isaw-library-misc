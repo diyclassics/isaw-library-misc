{
 "cells": [
  {
   "cell_type": "markdown",
   "metadata": {},
   "source": [
    "# Checking ISBNs in Bobcat using Selenium\n",
    "\n",
    "**Background**\n",
    "The library received a donation of a large book collection and we need to check this list of book against current holding both here and in the NYU Library system generally. This can be most easily done by checking ISBNs against our library management system (LMS). \n",
    "\n",
    "**Problem addressed**\n",
    "Checking the booklist against the LMS manually—i.e. entering each item into the online library catalog—works, but is time-consuming. Let's estimate this at 3 minutes per book for lookup and recording (i.e. yes/no as to whether it is already held in the library system). For a large collection, the time to check books adds up quickly.\n",
    "\n",
    "**Proposed solution**\n",
    "Two points from the start: 1. we already record ISBNs from donated books as part of the inventory process and store them in a list (currently in a spreadsheet); 2. the library's online catalog can search for books by ISBN. Accordingly, my proposed solution to this problem is use a Python script to iteratre over the list of ISBNS and retrieve catalog information in an automated manner.\n",
    "\n",
    "**Code outline**\n",
    "- Spreadsheet data—i.e. the ISBNs—is moved to a plaintext list, which is read into memory using Python.\n",
    "- Browser session is initiated using `selenium`/`geckodriver`.\n",
    "- (ISBNs are validated using `isbnlib`, etc.)\n",
    "- URL request (composed of a base URL and a query parameter for the ISBN) is sent to library catalog\n",
    "- Using `BeautifulSoup`, the html source for the URL is checked for the presence of a div with class 'alert'. If a search result page has an 'alert' block, it means that the given book is not in the catalog and it is assigned a value of False.\n",
    "- Matches—i.e. True/False for each ISBN—are stored in a list and output to a .CSV file.\n",
    "\n",
    "**Future direction**\n",
    "Direct API access to the LMS to retrieve book data by ISBN would be a preferable way to accomplish this goal. This does not seem possible as present (and if it is, please let me know!). PJB, 11.17.17"
   ]
  },
  {
   "cell_type": "code",
   "execution_count": 1,
   "metadata": {},
   "outputs": [],
   "source": [
    "# Imports\n",
    "\n",
    "import os\n",
    "\n",
    "import csv\n",
    "\n",
    "from selenium import webdriver\n",
    "from requests import get\n",
    "from bs4 import BeautifulSoup\n",
    "\n",
    "from isbnlib import is_isbn10, is_isbn13, clean"
   ]
  },
  {
   "cell_type": "code",
   "execution_count": 2,
   "metadata": {},
   "outputs": [],
   "source": [
    "# Statics\n",
    "# Note: this URL works, but could probably be cleaned up\n",
    "# Note: this search may be restricted to NYU ip addresses\n",
    "\n",
    "base_url = \"http://bobcat.library.nyu.edu/primo-explore/search?search_scope=all&sortby=rank&vid=NYU&lang=en_US&query=isbn,exact,\"\n",
    "\n",
    "infile = \"data/isbns.txt\""
   ]
  },
  {
   "cell_type": "code",
   "execution_count": 3,
   "metadata": {},
   "outputs": [],
   "source": [
    "# Read a txt file of isbns\n",
    "\n",
    "with open(infile, \"r\") as f:\n",
    "    isbns = f.read().splitlines()"
   ]
  },
  {
   "cell_type": "code",
   "execution_count": 4,
   "metadata": {},
   "outputs": [],
   "source": [
    "# Function to validate isbns\n",
    "\n",
    "def validate_isbn(isbn):\n",
    "    return True if is_isbn13(isbn) or is_isbn10(isbn) else False\n",
    "\n",
    "def pad_isbn(isbn):\n",
    "    if len(clean(isbn)) < 10:\n",
    "        return '0' * (10-len(isbn)) + isbn\n",
    "    return isbn"
   ]
  },
  {
   "cell_type": "code",
   "execution_count": 5,
   "metadata": {},
   "outputs": [],
   "source": [
    "# Create browser instance\n",
    "# Note: this requires Firefox & Geckodriver to be installed\n",
    "\n",
    "browser = webdriver.Firefox(executable_path='/usr/local/bin/geckodriver')"
   ]
  },
  {
   "cell_type": "code",
   "execution_count": 6,
   "metadata": {},
   "outputs": [],
   "source": [
    "# Function for finding isbn matches in Bobcat (via Selenium)\n",
    "\n",
    "def check_bobcat_isbn(isbn):\n",
    "    #check_bobcat = False # Set default return\n",
    "    \n",
    "    valid_isbn = validate_isbn(isbn)\n",
    "    \n",
    "    if valid_isbn:\n",
    "        url = base_url + isbn # Build URL string\n",
    "    elif validate_isbn(pad_isbn(isbn)):\n",
    "        url = base_url + pad_isbn(isbn) # Build URL string\n",
    "    else:\n",
    "        return False\n",
    "    browser.get(url) # Open url in browser instance; should trap response errors\n",
    "    alert = browser.find_elements_by_class_name('md-headline') # Only missing ISBNs have an class called md-headline (check!)\n",
    "    \n",
    "    return True if len(alert) == 0 else False"
   ]
  },
  {
   "cell_type": "code",
   "execution_count": 7,
   "metadata": {},
   "outputs": [
    {
     "name": "stdout",
     "output_type": "stream",
     "text": [
      "Checking ISBN 9782711857319. Result: True\n",
      "Checking ISBN 9782754106207. Result: True\n",
      "Checking ISBN 1588390721. Result: True\n",
      "Checking ISBN 9782842782177. Result: True\n",
      "Checking ISBN 9782855394237. Result: True\n",
      "Checking ISBN 2855394236. Result: True\n",
      "Checking ISBN 088029177X. Result: True\n",
      "Checking ISBN 9785938930506. Result: True\n",
      "Checking ISBN 9781891771255. Result: True\n",
      "Checking ISBN 9780910407397. Result: True\n",
      "Checking ISBN 9780939117673. Result: True\n",
      "Checking ISBN 9780911886535. Result: True\n",
      "Checking ISBN 0299970701. Result: True\n",
      "Checking ISBN 0810929384. Result: True\n",
      "Checking ISBN 9789748225302. Result: True\n",
      "Checking ISBN 9780761816713. Result: True\n",
      "Checking ISBN 9780140443486. Result: True\n",
      "Checking ISBN 9780140443066. Result: True\n",
      "Checking ISBN 9780192835765. Result: True\n",
      "Checking ISBN 0942614186. Result: True\n",
      "Checking ISBN 9780195659122. Result: True\n",
      "Checking ISBN 8190014900. Result: True\n",
      "Checking ISBN 0773478531. Result: True\n",
      "Checking ISBN 2720010316. Result: True\n",
      "Checking ISBN 9780862671501. Result: True\n",
      "Checking ISBN 9782070532551. Result: True\n",
      "Checking ISBN 376302011X. Result: True\n",
      "Checking ISBN 8121507235. Result: True\n",
      "Checking ISBN 9783869221878. Result: True\n",
      "Checking ISBN 9780520224667. Result: True\n",
      "Checking ISBN 0932216285. Result: True\n",
      "Checking ISBN 7800070433. Result: True\n",
      "Checking ISBN 7226QQ4976. Result: False\n",
      "Checking ISBN 7226004976. Result: True\n",
      "Checking ISBN 3201016780. Result: True\n",
      "Checking ISBN 9780553370904. Result: True\n",
      "Checking ISBN 0877733546. Result: True\n",
      "Checking ISBN 9782711823642. Result: True\n",
      "Checking ISBN 2855397359. Result: True\n",
      "Checking ISBN 9781851774296. Result: True\n",
      "Checking ISBN 7560710077. Result: True\n",
      "Checking ISBN 9787228032488. Result: True\n",
      "Checking ISBN 9782220026299. Result: True\n",
      "Checking ISBN 9780714121802. Result: True\n",
      "Checking ISBN 9780813380650. Result: True\n",
      "Checking ISBN 9780810981034. Result: True\n",
      "Checking ISBN 067040697X. Result: True\n",
      "Checking ISBN 9781904832164. Result: True\n",
      "Checking ISBN 9780907849520. Result: True\n",
      "Checking ISBN 9780521533386. Result: True\n",
      "Checking ISBN 9789748225302. Result: True\n",
      "Checking ISBN 9748434575. Result: True\n",
      "Checking ISBN 0500690014. Result: True\n",
      "Checking ISBN 9780811800402. Result: True\n",
      "Checking ISBN 3761106262. Result: True\n",
      "Checking ISBN 9782842782177. Result: True\n",
      "Checking ISBN 0520050614. Result: True\n",
      "Checking ISBN 9780252071218. Result: True\n",
      "Checking ISBN 0810906813. Result: True\n",
      "Checking ISBN 9781570621864. Result: True\n",
      "Checking ISBN 9780500275160. Result: True\n",
      "Checking ISBN 9782080113603. Result: True\n",
      "Checking ISBN 029596815X. Result: True\n",
      "Checking ISBN 0934686505. Result: True\n",
      "Checking ISBN 0674795903. Result: True\n",
      "Checking ISBN 9781588861146. Result: True\n",
      "Checking ISBN 9780860787662. Result: True\n",
      "Checking ISBN 0860788849. Result: True\n"
     ]
    }
   ],
   "source": [
    "# Iterate over isbns and find matches\n",
    "\n",
    "matches = []\n",
    "\n",
    "for isbn in isbns:\n",
    "    isbn = pad_isbn(isbn.upper())\n",
    "    match = check_bobcat_isbn(isbn)\n",
    "    print(f'Checking ISBN {isbn}. Result: {match}')\n",
    "    matches.append((isbn, match))"
   ]
  },
  {
   "cell_type": "code",
   "execution_count": 8,
   "metadata": {},
   "outputs": [],
   "source": [
    "# Export to csv\n",
    "\n",
    "with open('matches.csv','w') as out:\n",
    "    csv_out=csv.writer(out, quotechar = \"'\")\n",
    "    csv_out.writerow(['isbn','match'])\n",
    "    for row in matches:\n",
    "        csv_out.writerow(row)"
   ]
  },
  {
   "cell_type": "code",
   "execution_count": 9,
   "metadata": {},
   "outputs": [],
   "source": [
    "# Close browser instance\n",
    "\n",
    "browser.quit()"
   ]
  }
 ],
 "metadata": {
  "kernelspec": {
   "display_name": "Python 3",
   "language": "python",
   "name": "python3"
  },
  "language_info": {
   "codemirror_mode": {
    "name": "ipython",
    "version": 3
   },
   "file_extension": ".py",
   "mimetype": "text/x-python",
   "name": "python",
   "nbconvert_exporter": "python",
   "pygments_lexer": "ipython3",
   "version": "3.7.0"
  }
 },
 "nbformat": 4,
 "nbformat_minor": 2
}
