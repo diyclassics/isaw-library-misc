{
 "cells": [
  {
   "cell_type": "code",
   "execution_count": 1,
   "metadata": {},
   "outputs": [],
   "source": [
    "# Imports\n",
    "\n",
    "import os\n",
    "\n",
    "import csv\n",
    "\n",
    "from selenium import webdriver\n",
    "from requests import get\n",
    "from bs4 import BeautifulSoup\n",
    "\n",
    "from isbnlib import is_isbn10, is_isbn13, clean"
   ]
  },
  {
   "cell_type": "code",
   "execution_count": 2,
   "metadata": {},
   "outputs": [],
   "source": [
    "# Statics\n",
    "# Note: this URL works, but could probably be cleaned up\n",
    "# Note: this search may be restricted to NYU ip addresses\n",
    "\n",
    "base_url = \"http://bobcat.library.nyu.edu/primo_library/libweb/action/\"\n",
    "base_url += \"search.do?fn=search&ct=search&initialSearch=true&mode=Basic&tab=all&indx=1&dum=true&srt=rank&vid=NYU&frbg=&vl%28freeText0%29=\"\n",
    "\n",
    "infile = \"data/isbns.txt\""
   ]
  },
  {
   "cell_type": "code",
   "execution_count": 3,
   "metadata": {},
   "outputs": [],
   "source": [
    "# Read a txt file of isbns\n",
    "\n",
    "with open(infile, \"r\") as f:\n",
    "    isbns = f.read().splitlines()"
   ]
  },
  {
   "cell_type": "code",
   "execution_count": 4,
   "metadata": {},
   "outputs": [],
   "source": [
    "# Function to validate isbns\n",
    "\n",
    "def validate_isbn(isbn):\n",
    "    return True if is_isbn13(isbn) or is_isbn10(isbn) else False\n",
    "\n",
    "def pad_isbn(isbn):\n",
    "    if len(clean(isbn)) < 10:\n",
    "        return '0' * (10-len(isbn)) + isbn\n",
    "    return isbn"
   ]
  },
  {
   "cell_type": "code",
   "execution_count": 5,
   "metadata": {},
   "outputs": [],
   "source": [
    "# Fix leading zeroes\n",
    "\n",
    "#isbns = [validate_isbn(isbn) for isbn in isbns]"
   ]
  },
  {
   "cell_type": "code",
   "execution_count": 6,
   "metadata": {},
   "outputs": [],
   "source": [
    "# Create browser instance\n",
    "# Note: this requires Firefox & Geckodriver to be installed\n",
    "\n",
    "browser = webdriver.Firefox(executable_path='/usr/local/bin/geckodriver')"
   ]
  },
  {
   "cell_type": "code",
   "execution_count": 7,
   "metadata": {},
   "outputs": [],
   "source": [
    "# Function for finding isbn matches in Bobcat (via Selenium)\n",
    "\n",
    "def check_bobcat_isbn(isbn):\n",
    "    #check_bobcat = False # Set default return\n",
    "    \n",
    "    valid_isbn = validate_isbn(isbn)\n",
    "    \n",
    "    if valid_isbn:\n",
    "        url = base_url + isbn # Build URL string\n",
    "    elif validate_isbn(pad_isbn(isbn)):\n",
    "        url = base_url + pad_isbn(isbn) # Build URL string\n",
    "    else:\n",
    "        return False\n",
    "    browser.get(url) # Open url in browser instance; should trap response errors\n",
    "    alert = browser.find_elements_by_class_name('alert') # Only missing ISBNs have an class called alert\n",
    "    \n",
    "    return True if len(alert) == 0 else False"
   ]
  },
  {
   "cell_type": "code",
   "execution_count": 8,
   "metadata": {},
   "outputs": [],
   "source": [
    "# Iterate over isbns and find matches\n",
    "\n",
    "matches = []\n",
    "\n",
    "for isbn in isbns:\n",
    "    isbn = pad_isbn(isbn.upper())\n",
    "    match = check_bobcat_isbn(isbn)\n",
    "    matches.append((isbn, match))"
   ]
  },
  {
   "cell_type": "code",
   "execution_count": 9,
   "metadata": {},
   "outputs": [],
   "source": [
    "# Export to csv\n",
    "\n",
    "with open('matches.csv','w') as out:\n",
    "    csv_out=csv.writer(out, quotechar = \"'\")\n",
    "    csv_out.writerow(['isbn','match'])\n",
    "    for row in matches:\n",
    "        csv_out.writerow(row)"
   ]
  },
  {
   "cell_type": "code",
   "execution_count": 10,
   "metadata": {},
   "outputs": [],
   "source": [
    "# Close browser instance\n",
    "\n",
    "browser.quit()"
   ]
  }
 ],
 "metadata": {
  "kernelspec": {
   "display_name": "Python 3",
   "language": "python",
   "name": "python3"
  },
  "language_info": {
   "codemirror_mode": {
    "name": "ipython",
    "version": 3
   },
   "file_extension": ".py",
   "mimetype": "text/x-python",
   "name": "python",
   "nbconvert_exporter": "python",
   "pygments_lexer": "ipython3",
   "version": "3.6.2"
  }
 },
 "nbformat": 4,
 "nbformat_minor": 2
}
