{
 "cells": [
  {
   "cell_type": "code",
   "execution_count": 1,
   "metadata": {
    "collapsed": true
   },
   "outputs": [],
   "source": [
    "# from bokeh.plotting import figure, output_file, show\n",
    "import gzip\n",
    "import io\n",
    "import pandas as pd\n",
    "\n",
    "\n",
    "import sqlite3\n",
    "\n"
   ]
  },
  {
   "cell_type": "code",
   "execution_count": 2,
   "metadata": {},
   "outputs": [],
   "source": [
    "## This notebook was tested on ISBNs that had been normalized to 13 digits \n",
    "## by adding additional leading zeroes to 10-digit ISBNs and formatting as text.\n",
    "## ISBNs ending in \"X\" were already text, and remained as 10 digits in both CSV files.\n",
    "\n",
    "isbns = pd.read_csv('isbns/isbns-sample.csv')\n",
    "bsns = pd.read_csv('isbns/bsn_isbn.csv')\n"
   ]
  },
  {
   "cell_type": "code",
   "execution_count": 3,
   "metadata": {
    "collapsed": true
   },
   "outputs": [],
   "source": [
    "isbns_sql = sqlite3.connect(\":memory:\")"
   ]
  },
  {
   "cell_type": "code",
   "execution_count": 4,
   "metadata": {},
   "outputs": [],
   "source": [
    "isbns.to_sql('isbns',isbns_sql,if_exists = \"replace\")\n",
    "bsns.to_sql('bsns',isbns_sql,if_exists = \"replace\")"
   ]
  },
  {
   "cell_type": "code",
   "execution_count": 5,
   "metadata": {},
   "outputs": [
    {
     "data": {
      "text/html": [
       "<div>\n",
       "<style>\n",
       "    .dataframe thead tr:only-child th {\n",
       "        text-align: right;\n",
       "    }\n",
       "\n",
       "    .dataframe thead th {\n",
       "        text-align: left;\n",
       "    }\n",
       "\n",
       "    .dataframe tbody tr th {\n",
       "        vertical-align: top;\n",
       "    }\n",
       "</style>\n",
       "<table border=\"1\" class=\"dataframe\">\n",
       "  <thead>\n",
       "    <tr style=\"text-align: right;\">\n",
       "      <th></th>\n",
       "      <th>bsn</th>\n",
       "      <th>isbnnormalized</th>\n",
       "      <th>isbnnormalized</th>\n",
       "      <th>shelf</th>\n",
       "      <th>shelfplace</th>\n",
       "    </tr>\n",
       "  </thead>\n",
       "  <tbody>\n",
       "    <tr>\n",
       "      <th>0</th>\n",
       "      <td>2007896</td>\n",
       "      <td>0003805311877</td>\n",
       "      <td>0003805311877</td>\n",
       "      <td>4B</td>\n",
       "      <td>3</td>\n",
       "    </tr>\n",
       "    <tr>\n",
       "      <th>1</th>\n",
       "      <td>384320</td>\n",
       "      <td>0000877277052</td>\n",
       "      <td>0000877277052</td>\n",
       "      <td>4B</td>\n",
       "      <td>7</td>\n",
       "    </tr>\n",
       "    <tr>\n",
       "      <th>2</th>\n",
       "      <td>2354452</td>\n",
       "      <td>0009813002700</td>\n",
       "      <td>0009813002700</td>\n",
       "      <td>4B</td>\n",
       "      <td>10</td>\n",
       "    </tr>\n",
       "    <tr>\n",
       "      <th>3</th>\n",
       "      <td>4095657</td>\n",
       "      <td>0000810928531</td>\n",
       "      <td>0000810928531</td>\n",
       "      <td>4B</td>\n",
       "      <td>13</td>\n",
       "    </tr>\n",
       "    <tr>\n",
       "      <th>4</th>\n",
       "      <td>4095657</td>\n",
       "      <td>9780810928534</td>\n",
       "      <td>9780810928534</td>\n",
       "      <td>4B</td>\n",
       "      <td>13</td>\n",
       "    </tr>\n",
       "    <tr>\n",
       "      <th>5</th>\n",
       "      <td>2368885</td>\n",
       "      <td>0000521565057</td>\n",
       "      <td>0000521565057</td>\n",
       "      <td>4B</td>\n",
       "      <td>16</td>\n",
       "    </tr>\n",
       "    <tr>\n",
       "      <th>6</th>\n",
       "      <td>4093270</td>\n",
       "      <td>0002708405861</td>\n",
       "      <td>0002708405861</td>\n",
       "      <td>5C</td>\n",
       "      <td>7</td>\n",
       "    </tr>\n",
       "    <tr>\n",
       "      <th>7</th>\n",
       "      <td>4093270</td>\n",
       "      <td>9782708405868</td>\n",
       "      <td>9782708405868</td>\n",
       "      <td>5C</td>\n",
       "      <td>7</td>\n",
       "    </tr>\n",
       "    <tr>\n",
       "      <th>8</th>\n",
       "      <td>2649589</td>\n",
       "      <td>0000812278569</td>\n",
       "      <td>0000812278569</td>\n",
       "      <td>5C</td>\n",
       "      <td>10</td>\n",
       "    </tr>\n",
       "    <tr>\n",
       "      <th>9</th>\n",
       "      <td>2657778</td>\n",
       "      <td>0000870993267</td>\n",
       "      <td>0000870993267</td>\n",
       "      <td>5C</td>\n",
       "      <td>13</td>\n",
       "    </tr>\n",
       "    <tr>\n",
       "      <th>10</th>\n",
       "      <td>2750183</td>\n",
       "      <td>0000877277001</td>\n",
       "      <td>0000877277001</td>\n",
       "      <td>5C</td>\n",
       "      <td>23</td>\n",
       "    </tr>\n",
       "  </tbody>\n",
       "</table>\n",
       "</div>"
      ],
      "text/plain": [
       "        bsn isbnnormalized isbnnormalized shelf  shelfplace\n",
       "0   2007896  0003805311877  0003805311877    4B           3\n",
       "1    384320  0000877277052  0000877277052    4B           7\n",
       "2   2354452  0009813002700  0009813002700    4B          10\n",
       "3   4095657  0000810928531  0000810928531    4B          13\n",
       "4   4095657  9780810928534  9780810928534    4B          13\n",
       "5   2368885  0000521565057  0000521565057    4B          16\n",
       "6   4093270  0002708405861  0002708405861    5C           7\n",
       "7   4093270  9782708405868  9782708405868    5C           7\n",
       "8   2649589  0000812278569  0000812278569    5C          10\n",
       "9   2657778  0000870993267  0000870993267    5C          13\n",
       "10  2750183  0000877277001  0000877277001    5C          23"
      ]
     },
     "execution_count": 5,
     "metadata": {},
     "output_type": "execute_result"
    }
   ],
   "source": [
    "isbncheck = pd.read_sql_query('''SELECT bsns.bsn, bsns.isbnnormalized, \n",
    "isbns.isbnnormalized, isbns.shelf, isbns.shelfplace\n",
    "FROM bsns, isbns\n",
    "WHERE bsns.isbnnormalized = isbns.isbnnormalized\n",
    "\n",
    "order by isbns.shelf, isbns.shelfplace''', isbns_sql)\n",
    "\n",
    "isbncheck"
   ]
  },
  {
   "cell_type": "code",
   "execution_count": null,
   "metadata": {
    "collapsed": true
   },
   "outputs": [],
   "source": []
  }
 ],
 "metadata": {
  "kernelspec": {
   "display_name": "Python 3",
   "language": "python",
   "name": "python3"
  },
  "language_info": {
   "codemirror_mode": {
    "name": "ipython",
    "version": 3
   },
   "file_extension": ".py",
   "mimetype": "text/x-python",
   "name": "python",
   "nbconvert_exporter": "python",
   "pygments_lexer": "ipython3",
   "version": "3.6.1"
  }
 },
 "nbformat": 4,
 "nbformat_minor": 2
}
